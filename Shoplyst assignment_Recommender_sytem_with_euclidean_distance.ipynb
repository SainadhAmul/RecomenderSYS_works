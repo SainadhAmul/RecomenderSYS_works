{
 "cells": [
  {
   "cell_type": "code",
   "execution_count": 1,
   "metadata": {},
   "outputs": [],
   "source": [
    "import pandas as pd\n",
    "import numpy as np\n",
    "import os\n",
    "os.chdir('c://users//administrator//desktop')"
   ]
  },
  {
   "cell_type": "code",
   "execution_count": 2,
   "metadata": {},
   "outputs": [],
   "source": [
    "s = pd.read_csv('products - Sheet1.csv')"
   ]
  },
  {
   "cell_type": "code",
   "execution_count": 182,
   "metadata": {},
   "outputs": [],
   "source": [
    "s_check = pd.read_csv('products - Sheet1.csv')"
   ]
  },
  {
   "cell_type": "code",
   "execution_count": 151,
   "metadata": {},
   "outputs": [
    {
     "data": {
      "text/html": [
       "<div>\n",
       "<style scoped>\n",
       "    .dataframe tbody tr th:only-of-type {\n",
       "        vertical-align: middle;\n",
       "    }\n",
       "\n",
       "    .dataframe tbody tr th {\n",
       "        vertical-align: top;\n",
       "    }\n",
       "\n",
       "    .dataframe thead th {\n",
       "        text-align: right;\n",
       "    }\n",
       "</style>\n",
       "<table border=\"1\" class=\"dataframe\">\n",
       "  <thead>\n",
       "    <tr style=\"text-align: right;\">\n",
       "      <th></th>\n",
       "      <th>ProductId</th>\n",
       "      <th>Title</th>\n",
       "      <th>Image URL</th>\n",
       "      <th>Division</th>\n",
       "      <th>Category</th>\n",
       "      <th>Sub category</th>\n",
       "      <th>Article type</th>\n",
       "      <th>Offer price</th>\n",
       "      <th>Sale price</th>\n",
       "      <th>Color</th>\n",
       "      <th>Gender</th>\n",
       "    </tr>\n",
       "  </thead>\n",
       "  <tbody>\n",
       "    <tr>\n",
       "      <th>0</th>\n",
       "      <td>E8AC41D107EA5DBB5DF561A684899B38</td>\n",
       "      <td>Color Dose Pearls Bronze 59 Nail Polish</td>\n",
       "      <td>https://media6.ppl-media.com/tr:h-750,w-750,c-...</td>\n",
       "      <td>Makeup</td>\n",
       "      <td>Nails</td>\n",
       "      <td>Nail Polish</td>\n",
       "      <td>Nail Polish</td>\n",
       "      <td>59</td>\n",
       "      <td>59</td>\n",
       "      <td>Color Dose</td>\n",
       "      <td>women</td>\n",
       "    </tr>\n",
       "    <tr>\n",
       "      <th>1</th>\n",
       "      <td>04AE770377AABCCBCCDD5FBC93CC83E1</td>\n",
       "      <td>Rimmel Space Dust Nail Polish - Luna Love #004</td>\n",
       "      <td>https://media6.ppl-media.com/tr:h-750,w-750,c-...</td>\n",
       "      <td>Makeup</td>\n",
       "      <td>Nails</td>\n",
       "      <td>Nail Polish</td>\n",
       "      <td>Nail Polish</td>\n",
       "      <td>310</td>\n",
       "      <td>310</td>\n",
       "      <td>Rimmel</td>\n",
       "      <td>women</td>\n",
       "    </tr>\n",
       "  </tbody>\n",
       "</table>\n",
       "</div>"
      ],
      "text/plain": [
       "                          ProductId  \\\n",
       "0  E8AC41D107EA5DBB5DF561A684899B38   \n",
       "1  04AE770377AABCCBCCDD5FBC93CC83E1   \n",
       "\n",
       "                                            Title  \\\n",
       "0         Color Dose Pearls Bronze 59 Nail Polish   \n",
       "1  Rimmel Space Dust Nail Polish - Luna Love #004   \n",
       "\n",
       "                                           Image URL Division Category  \\\n",
       "0  https://media6.ppl-media.com/tr:h-750,w-750,c-...   Makeup    Nails   \n",
       "1  https://media6.ppl-media.com/tr:h-750,w-750,c-...   Makeup    Nails   \n",
       "\n",
       "  Sub category Article type  Offer price  Sale price       Color Gender  \n",
       "0  Nail Polish  Nail Polish           59          59  Color Dose  women  \n",
       "1  Nail Polish  Nail Polish          310         310      Rimmel  women  "
      ]
     },
     "execution_count": 151,
     "metadata": {},
     "output_type": "execute_result"
    }
   ],
   "source": [
    "s.head(2)"
   ]
  },
  {
   "cell_type": "code",
   "execution_count": null,
   "metadata": {},
   "outputs": [],
   "source": [
    "# UNDERSTANDING AND CLEANING THE DATA"
   ]
  },
  {
   "cell_type": "code",
   "execution_count": 152,
   "metadata": {},
   "outputs": [
    {
     "data": {
      "text/plain": [
       "ProductId          0\n",
       "Title              0\n",
       "Image URL          0\n",
       "Division        2394\n",
       "Category           0\n",
       "Sub category       0\n",
       "Article type       0\n",
       "Offer price        0\n",
       "Sale price         0\n",
       "Color            108\n",
       "Gender             0\n",
       "dtype: int64"
      ]
     },
     "execution_count": 152,
     "metadata": {},
     "output_type": "execute_result"
    }
   ],
   "source": [
    "np.sum(s.isna())"
   ]
  },
  {
   "cell_type": "code",
   "execution_count": null,
   "metadata": {},
   "outputs": [],
   "source": [
    "## MORE SENSEFUL DATA IMPUTATION !!     NOT WORKING!\n",
    "\n",
    "for i,row in s.iterrows():\n",
    "    #print(row.index)\n",
    "    if row['Division'] not in s.Division.value_counts().index:\n",
    "        s.ix[i,'Division'] = s[s['Category'] == row['Category']]['Division'].unique()[0]\n",
    "    else:\n",
    "        pass\n",
    "    if row['Color'] not in s.Color.value_counts().index:\n",
    "        s.ix[i,'Color'] = s[s['Sub category'] == row['Sub category']]['Color'].unique()[0]\n",
    "    else:\n",
    "        pass"
   ]
  },
  {
   "cell_type": "code",
   "execution_count": 153,
   "metadata": {},
   "outputs": [
    {
     "data": {
      "text/plain": [
       "Makeup                   1357\n",
       "Body                      820\n",
       "Wellness                  682\n",
       "Hair Care and Styling     552\n",
       "Accessories               500\n",
       "Fragrance                 292\n",
       "Skin Care                 242\n",
       "Men Grooming              235\n",
       "Electronics               152\n",
       "Name: Division, dtype: int64"
      ]
     },
     "execution_count": 153,
     "metadata": {},
     "output_type": "execute_result"
    }
   ],
   "source": [
    "s.Division.value_counts()                      ## make is the most repeating category here"
   ]
  },
  {
   "cell_type": "code",
   "execution_count": 154,
   "metadata": {},
   "outputs": [],
   "source": [
    "## REPLACING ALL THE NA's with MODE of that column ( DIVISION)\n",
    "\n",
    "s.Division.fillna(s.Division.value_counts().index[0],inplace = True)"
   ]
  },
  {
   "cell_type": "code",
   "execution_count": 155,
   "metadata": {},
   "outputs": [],
   "source": [
    "## REPLACING ALL THE NA's with MODE of that column ( COLOR)\n",
    "\n",
    "s.Color.fillna(s.Color.value_counts().index[0],inplace = True)"
   ]
  },
  {
   "cell_type": "code",
   "execution_count": 156,
   "metadata": {},
   "outputs": [
    {
     "data": {
      "text/plain": [
       "Index(['Crunchy Fashion', 'Faces', 'Healthvit', 'Good Vibes', 'herbal hills',\n",
       "       'Inlife', 'Matrix Hair Color', 'Vaadi Herbals', 'Radico', 'he',\n",
       "       'Gorgio Professional', 'Matrix', 'Veet', 'GlamGals', 'Essence',\n",
       "       'Morpheme Remedies', 'Berina', 'Dettol', 'yardley', 'NourishVitals',\n",
       "       'Colorbar', 'l'oreal paris', 'Karatcart', 'Blue Heaven', 'Whisper',\n",
       "       'Ferosh', 'Bella', 'kronokare', 'Mond'Sub', 'Stay Quirky'],\n",
       "      dtype='object')"
      ]
     },
     "execution_count": 156,
     "metadata": {},
     "output_type": "execute_result"
    }
   ],
   "source": [
    "## TOO MANY COLORS IN COLORS COLUMN    ( FINDING COLORS THAT REPEATED FOR MORE THAN 50 TIMES)\n",
    "\n",
    "top_colors = s.Color.value_counts()[s.Color.value_counts()>50].index                     ## MOST REPEATED IN THIS COLUMN IS CRUNCHY FASHION \n",
    "top_colors                                                                                 ## TOO MANY CATEGORIES"
   ]
  },
  {
   "cell_type": "code",
   "execution_count": 157,
   "metadata": {},
   "outputs": [],
   "source": [
    "## RETAINING TOP 50 COLORS\n",
    "\n",
    "s['Color'] = [x if x in top_colors else 'other color' for x in s['Color']]"
   ]
  },
  {
   "cell_type": "markdown",
   "metadata": {},
   "source": [
    "## EXTRACTING BRAND      from Title"
   ]
  },
  {
   "cell_type": "code",
   "execution_count": 158,
   "metadata": {},
   "outputs": [],
   "source": [
    "def brand(x):\n",
    "       return x.split(' ')[0]\n",
    "    \n",
    "s['brand'] = s.Title.apply(brand)"
   ]
  },
  {
   "cell_type": "code",
   "execution_count": 159,
   "metadata": {},
   "outputs": [
    {
     "data": {
      "text/plain": [
       "Index(['Crunchy', 'Matrix', 'Healthvit', 'Vaadi', 'Good', 'FACES', 'Faces',\n",
       "       'Herbal', 'L'Oreal', 'Blue', 'Veet', 'Stay', 'INLIFE', 'Essence', 'LA',\n",
       "       'Khadi', 'Bella', 'VLCC', 'Dettol', 'Radico', 'Gorgio', 'Colorbar',\n",
       "       'Morpheme', 'GlamGals', 'Yardley', 'SSCPL', 'Herbalife', 'Lakme',\n",
       "       'Berina', 'Elite', 'Whisper', 'Cheryl's', 'Karatcart', 'The',\n",
       "       'Schwarzkopf', 'Ferosh', 'Gillette', 'Kronokare', 'NourishVitals'],\n",
       "      dtype='object')"
      ]
     },
     "execution_count": 159,
     "metadata": {},
     "output_type": "execute_result"
    }
   ],
   "source": [
    "## TOO MANY BRAND IN COLORS COLUMN       ( FINDING BRANDS THAT GOT REPEATED MORE THAN 50 times)\n",
    " \n",
    "top_brand = s.brand.value_counts()[s.brand.value_counts()>50].index                     ## MOST REPEATED IN THIS COLUMN IS CRUNCHY FASHION \n",
    "top_brand  "
   ]
  },
  {
   "cell_type": "code",
   "execution_count": 160,
   "metadata": {},
   "outputs": [
    {
     "data": {
      "text/plain": [
       "Index(['Face Cream', 'Deodorant Women', 'Eyeliner', 'Vitamins & Supplements',\n",
       "       'Bangles & Bracelets', 'Fragrance For Men', 'Body Lotion', 'Face Blush',\n",
       "       'Hair Clips & Accessories', 'Deodorant Men', 'Earrings', 'Rings',\n",
       "       'Shampoo', 'Hand Sanitizer', 'Sponges & Wedges', 'Hand Wash',\n",
       "       'Fragrance For Women', 'Massage Oils', 'Kajal and Kohl',\n",
       "       'Matrix Hair Color Hair Color', 'Mascara', 'Hair Color',\n",
       "       'Gift and Value Sets', 'Crunchy Fashion Jewellery', 'Handmade Soaps',\n",
       "       'Regular Soaps', 'Foundation', 'Healthvit Family Nutrition', 'Powder',\n",
       "       'Lipstick', 'Nail Polish', 'Concealer', 'Bronzers & Highlighters',\n",
       "       'Radico Hair Color', 'Eyeshadow', 'Lip Gloss', 'Necklaces & Pendants',\n",
       "       'Lip Liner', 'Family Nutrition'],\n",
       "      dtype='object')"
      ]
     },
     "execution_count": 160,
     "metadata": {},
     "output_type": "execute_result"
    }
   ],
   "source": [
    "## TOP REPEATED SUB- CATEGORIES         ( TOO MANY SUBCATEGORIES)\n",
    "\n",
    "top_subcat = s['Sub category'].value_counts()[s['Sub category'].value_counts()>=100].index\n",
    "top_subcat"
   ]
  },
  {
   "cell_type": "code",
   "execution_count": 161,
   "metadata": {},
   "outputs": [],
   "source": [
    "## RETAINING TOP 50 Sub - Categories\n",
    "\n",
    "s['Sub category'] = [x if x in top_subcat else 'others' for x in s['Sub category']]"
   ]
  },
  {
   "cell_type": "code",
   "execution_count": 162,
   "metadata": {},
   "outputs": [],
   "source": [
    "## RETAINING TOP 50 BRANDS\n",
    "\n",
    "s['brand'] = [x if x in top_brand else 'other brand' for x in s['brand']]"
   ]
  },
  {
   "cell_type": "markdown",
   "metadata": {},
   "source": [
    "## EXTRAACTING TYPE (SOLID,LIQUID AND COMBOS/OTHERS)  from Title"
   ]
  },
  {
   "cell_type": "code",
   "execution_count": 163,
   "metadata": {},
   "outputs": [],
   "source": [
    "import re\n",
    "\n",
    "def extracttype(l):\n",
    "    x = re.search('ml' , l)                       ## ml\n",
    "    if x:\n",
    "        return 'liquid product'\n",
    "    else:\n",
    "        y = re.search(' g' , l)                     ## gms\n",
    "        if y:\n",
    "            return 'solid product'\n",
    "        else:\n",
    "            z = re.search('Combo' , l)               ## combo\n",
    "            if z:\n",
    "                return 'combo product'\n",
    "            else:\n",
    "                return 'other'"
   ]
  },
  {
   "cell_type": "code",
   "execution_count": 164,
   "metadata": {},
   "outputs": [],
   "source": [
    "s['type'] = s.Title.apply(extracttype)"
   ]
  },
  {
   "cell_type": "code",
   "execution_count": 165,
   "metadata": {},
   "outputs": [
    {
     "data": {
      "text/plain": [
       "other             2702\n",
       "liquid product    2420\n",
       "solid product     1994\n",
       "combo product      110\n",
       "Name: type, dtype: int64"
      ]
     },
     "execution_count": 165,
     "metadata": {},
     "output_type": "execute_result"
    }
   ],
   "source": [
    "s.type.value_counts()"
   ]
  },
  {
   "cell_type": "code",
   "execution_count": 171,
   "metadata": {},
   "outputs": [
    {
     "data": {
      "text/html": [
       "<div>\n",
       "<style scoped>\n",
       "    .dataframe tbody tr th:only-of-type {\n",
       "        vertical-align: middle;\n",
       "    }\n",
       "\n",
       "    .dataframe tbody tr th {\n",
       "        vertical-align: top;\n",
       "    }\n",
       "\n",
       "    .dataframe thead th {\n",
       "        text-align: right;\n",
       "    }\n",
       "</style>\n",
       "<table border=\"1\" class=\"dataframe\">\n",
       "  <thead>\n",
       "    <tr style=\"text-align: right;\">\n",
       "      <th></th>\n",
       "      <th>Division</th>\n",
       "      <th>Category</th>\n",
       "      <th>Sub category</th>\n",
       "      <th>Article type</th>\n",
       "      <th>Offer price</th>\n",
       "      <th>Sale price</th>\n",
       "      <th>Color</th>\n",
       "      <th>Gender</th>\n",
       "      <th>brand</th>\n",
       "      <th>type</th>\n",
       "    </tr>\n",
       "    <tr>\n",
       "      <th>ProductId</th>\n",
       "      <th></th>\n",
       "      <th></th>\n",
       "      <th></th>\n",
       "      <th></th>\n",
       "      <th></th>\n",
       "      <th></th>\n",
       "      <th></th>\n",
       "      <th></th>\n",
       "      <th></th>\n",
       "      <th></th>\n",
       "    </tr>\n",
       "  </thead>\n",
       "  <tbody>\n",
       "    <tr>\n",
       "      <th>E8AC41D107EA5DBB5DF561A684899B38</th>\n",
       "      <td>Makeup</td>\n",
       "      <td>Nails</td>\n",
       "      <td>Nail Polish</td>\n",
       "      <td>Nail Polish</td>\n",
       "      <td>59</td>\n",
       "      <td>59</td>\n",
       "      <td>other color</td>\n",
       "      <td>women</td>\n",
       "      <td>other brand</td>\n",
       "      <td>other</td>\n",
       "    </tr>\n",
       "    <tr>\n",
       "      <th>04AE770377AABCCBCCDD5FBC93CC83E1</th>\n",
       "      <td>Makeup</td>\n",
       "      <td>Nails</td>\n",
       "      <td>Nail Polish</td>\n",
       "      <td>Nail Polish</td>\n",
       "      <td>310</td>\n",
       "      <td>310</td>\n",
       "      <td>other color</td>\n",
       "      <td>women</td>\n",
       "      <td>other brand</td>\n",
       "      <td>other</td>\n",
       "    </tr>\n",
       "    <tr>\n",
       "      <th>21B0CF144B3CFFDDCCE4937C7731A7CE</th>\n",
       "      <td>Makeup</td>\n",
       "      <td>Nails</td>\n",
       "      <td>Nail Polish</td>\n",
       "      <td>Nail Polish</td>\n",
       "      <td>59</td>\n",
       "      <td>59</td>\n",
       "      <td>other color</td>\n",
       "      <td>women</td>\n",
       "      <td>other brand</td>\n",
       "      <td>other</td>\n",
       "    </tr>\n",
       "    <tr>\n",
       "      <th>129CE0C7596D2D346E5CDC54E55A3A67</th>\n",
       "      <td>Makeup</td>\n",
       "      <td>Nails</td>\n",
       "      <td>Nail Polish</td>\n",
       "      <td>Nail Polish</td>\n",
       "      <td>59</td>\n",
       "      <td>59</td>\n",
       "      <td>other color</td>\n",
       "      <td>women</td>\n",
       "      <td>other brand</td>\n",
       "      <td>other</td>\n",
       "    </tr>\n",
       "    <tr>\n",
       "      <th>A5E51E0F6C9929ECD16D875EC9A4AFA5</th>\n",
       "      <td>Makeup</td>\n",
       "      <td>Nails</td>\n",
       "      <td>Nail Polish</td>\n",
       "      <td>Nail Polish</td>\n",
       "      <td>237</td>\n",
       "      <td>249</td>\n",
       "      <td>other color</td>\n",
       "      <td>women</td>\n",
       "      <td>other brand</td>\n",
       "      <td>other</td>\n",
       "    </tr>\n",
       "  </tbody>\n",
       "</table>\n",
       "</div>"
      ],
      "text/plain": [
       "                                 Division Category Sub category Article type  \\\n",
       "ProductId                                                                      \n",
       "E8AC41D107EA5DBB5DF561A684899B38   Makeup    Nails  Nail Polish  Nail Polish   \n",
       "04AE770377AABCCBCCDD5FBC93CC83E1   Makeup    Nails  Nail Polish  Nail Polish   \n",
       "21B0CF144B3CFFDDCCE4937C7731A7CE   Makeup    Nails  Nail Polish  Nail Polish   \n",
       "129CE0C7596D2D346E5CDC54E55A3A67   Makeup    Nails  Nail Polish  Nail Polish   \n",
       "A5E51E0F6C9929ECD16D875EC9A4AFA5   Makeup    Nails  Nail Polish  Nail Polish   \n",
       "\n",
       "                                  Offer price  Sale price        Color Gender  \\\n",
       "ProductId                                                                       \n",
       "E8AC41D107EA5DBB5DF561A684899B38           59          59  other color  women   \n",
       "04AE770377AABCCBCCDD5FBC93CC83E1          310         310  other color  women   \n",
       "21B0CF144B3CFFDDCCE4937C7731A7CE           59          59  other color  women   \n",
       "129CE0C7596D2D346E5CDC54E55A3A67           59          59  other color  women   \n",
       "A5E51E0F6C9929ECD16D875EC9A4AFA5          237         249  other color  women   \n",
       "\n",
       "                                        brand   type  \n",
       "ProductId                                             \n",
       "E8AC41D107EA5DBB5DF561A684899B38  other brand  other  \n",
       "04AE770377AABCCBCCDD5FBC93CC83E1  other brand  other  \n",
       "21B0CF144B3CFFDDCCE4937C7731A7CE  other brand  other  \n",
       "129CE0C7596D2D346E5CDC54E55A3A67  other brand  other  \n",
       "A5E51E0F6C9929ECD16D875EC9A4AFA5  other brand  other  "
      ]
     },
     "execution_count": 171,
     "metadata": {},
     "output_type": "execute_result"
    }
   ],
   "source": [
    "### DROPPING UNWANTED COLUMNS AND SETTING INDEX \n",
    "\n",
    "s.set_index(['ProductId'],inplace=True)\n",
    "s.drop(['Title','Image URL'],axis= 1,inplace=True)"
   ]
  },
  {
   "cell_type": "markdown",
   "metadata": {},
   "source": [
    "## USING LABEL ENCODER"
   ]
  },
  {
   "cell_type": "code",
   "execution_count": 172,
   "metadata": {},
   "outputs": [],
   "source": [
    "from sklearn.preprocessing import LabelEncoder\n",
    "\n",
    "le = LabelEncoder()\n",
    "\n",
    "s_le = s.apply(le.fit_transform)"
   ]
  },
  {
   "cell_type": "code",
   "execution_count": 173,
   "metadata": {},
   "outputs": [
    {
     "data": {
      "text/html": [
       "<div>\n",
       "<style scoped>\n",
       "    .dataframe tbody tr th:only-of-type {\n",
       "        vertical-align: middle;\n",
       "    }\n",
       "\n",
       "    .dataframe tbody tr th {\n",
       "        vertical-align: top;\n",
       "    }\n",
       "\n",
       "    .dataframe thead th {\n",
       "        text-align: right;\n",
       "    }\n",
       "</style>\n",
       "<table border=\"1\" class=\"dataframe\">\n",
       "  <thead>\n",
       "    <tr style=\"text-align: right;\">\n",
       "      <th></th>\n",
       "      <th>Division</th>\n",
       "      <th>Category</th>\n",
       "      <th>Sub category</th>\n",
       "      <th>Article type</th>\n",
       "      <th>Offer price</th>\n",
       "      <th>Sale price</th>\n",
       "      <th>Color</th>\n",
       "      <th>Gender</th>\n",
       "      <th>brand</th>\n",
       "      <th>type</th>\n",
       "    </tr>\n",
       "    <tr>\n",
       "      <th>ProductId</th>\n",
       "      <th></th>\n",
       "      <th></th>\n",
       "      <th></th>\n",
       "      <th></th>\n",
       "      <th></th>\n",
       "      <th></th>\n",
       "      <th></th>\n",
       "      <th></th>\n",
       "      <th></th>\n",
       "      <th></th>\n",
       "    </tr>\n",
       "  </thead>\n",
       "  <tbody>\n",
       "    <tr>\n",
       "      <th>E8AC41D107EA5DBB5DF561A684899B38</th>\n",
       "      <td>5</td>\n",
       "      <td>27</td>\n",
       "      <td>30</td>\n",
       "      <td>75</td>\n",
       "      <td>36</td>\n",
       "      <td>25</td>\n",
       "      <td>29</td>\n",
       "      <td>1</td>\n",
       "      <td>39</td>\n",
       "      <td>2</td>\n",
       "    </tr>\n",
       "    <tr>\n",
       "      <th>04AE770377AABCCBCCDD5FBC93CC83E1</th>\n",
       "      <td>5</td>\n",
       "      <td>27</td>\n",
       "      <td>30</td>\n",
       "      <td>75</td>\n",
       "      <td>273</td>\n",
       "      <td>185</td>\n",
       "      <td>29</td>\n",
       "      <td>1</td>\n",
       "      <td>39</td>\n",
       "      <td>2</td>\n",
       "    </tr>\n",
       "    <tr>\n",
       "      <th>21B0CF144B3CFFDDCCE4937C7731A7CE</th>\n",
       "      <td>5</td>\n",
       "      <td>27</td>\n",
       "      <td>30</td>\n",
       "      <td>75</td>\n",
       "      <td>36</td>\n",
       "      <td>25</td>\n",
       "      <td>29</td>\n",
       "      <td>1</td>\n",
       "      <td>39</td>\n",
       "      <td>2</td>\n",
       "    </tr>\n",
       "    <tr>\n",
       "      <th>129CE0C7596D2D346E5CDC54E55A3A67</th>\n",
       "      <td>5</td>\n",
       "      <td>27</td>\n",
       "      <td>30</td>\n",
       "      <td>75</td>\n",
       "      <td>36</td>\n",
       "      <td>25</td>\n",
       "      <td>29</td>\n",
       "      <td>1</td>\n",
       "      <td>39</td>\n",
       "      <td>2</td>\n",
       "    </tr>\n",
       "    <tr>\n",
       "      <th>A5E51E0F6C9929ECD16D875EC9A4AFA5</th>\n",
       "      <td>5</td>\n",
       "      <td>27</td>\n",
       "      <td>30</td>\n",
       "      <td>75</td>\n",
       "      <td>207</td>\n",
       "      <td>155</td>\n",
       "      <td>29</td>\n",
       "      <td>1</td>\n",
       "      <td>39</td>\n",
       "      <td>2</td>\n",
       "    </tr>\n",
       "  </tbody>\n",
       "</table>\n",
       "</div>"
      ],
      "text/plain": [
       "                                  Division  Category  Sub category  \\\n",
       "ProductId                                                            \n",
       "E8AC41D107EA5DBB5DF561A684899B38         5        27            30   \n",
       "04AE770377AABCCBCCDD5FBC93CC83E1         5        27            30   \n",
       "21B0CF144B3CFFDDCCE4937C7731A7CE         5        27            30   \n",
       "129CE0C7596D2D346E5CDC54E55A3A67         5        27            30   \n",
       "A5E51E0F6C9929ECD16D875EC9A4AFA5         5        27            30   \n",
       "\n",
       "                                  Article type  Offer price  Sale price  \\\n",
       "ProductId                                                                 \n",
       "E8AC41D107EA5DBB5DF561A684899B38            75           36          25   \n",
       "04AE770377AABCCBCCDD5FBC93CC83E1            75          273         185   \n",
       "21B0CF144B3CFFDDCCE4937C7731A7CE            75           36          25   \n",
       "129CE0C7596D2D346E5CDC54E55A3A67            75           36          25   \n",
       "A5E51E0F6C9929ECD16D875EC9A4AFA5            75          207         155   \n",
       "\n",
       "                                  Color  Gender  brand  type  \n",
       "ProductId                                                     \n",
       "E8AC41D107EA5DBB5DF561A684899B38     29       1     39     2  \n",
       "04AE770377AABCCBCCDD5FBC93CC83E1     29       1     39     2  \n",
       "21B0CF144B3CFFDDCCE4937C7731A7CE     29       1     39     2  \n",
       "129CE0C7596D2D346E5CDC54E55A3A67     29       1     39     2  \n",
       "A5E51E0F6C9929ECD16D875EC9A4AFA5     29       1     39     2  "
      ]
     },
     "execution_count": 173,
     "metadata": {},
     "output_type": "execute_result"
    }
   ],
   "source": [
    "s_le.head()"
   ]
  },
  {
   "cell_type": "markdown",
   "metadata": {},
   "source": [
    "#  MODEL BUILDING   (KNN)"
   ]
  },
  {
   "cell_type": "code",
   "execution_count": 175,
   "metadata": {},
   "outputs": [],
   "source": [
    "from scipy.spatial.distance import euclidean as ed"
   ]
  },
  {
   "cell_type": "markdown",
   "metadata": {},
   "source": [
    "# INPUT"
   ]
  },
  {
   "cell_type": "code",
   "execution_count": 203,
   "metadata": {},
   "outputs": [],
   "source": [
    "## TAKING ONE OF THE Product-Id as input\n",
    "\n",
    "## EX:  taking the first product\n",
    "\n",
    "pid = 'E8AC41D107EA5DBB5DF561A684899B38'\n",
    "\n",
    "ref = s_le.loc['E8AC41D107EA5DBB5DF561A684899B38',:]            ## REFERENCE ROW TO GET RECOMENDATIONS"
   ]
  },
  {
   "cell_type": "code",
   "execution_count": 204,
   "metadata": {},
   "outputs": [],
   "source": [
    "\n",
    "## CALCULATING THE DISTANCE OF EACH OTHER PRODUCT FROM THE PRESENT PRODUCT\n",
    "\n",
    "d ={}\n",
    "for i,row in s_le.iterrows():\n",
    "    d[i] = round(ed(np.array(row),np.array(ref)),2)"
   ]
  },
  {
   "cell_type": "code",
   "execution_count": 205,
   "metadata": {},
   "outputs": [],
   "source": [
    "## MAKING A DISTANCE DATAFRAME\n",
    "\n",
    "dist = pd.DataFrame([np.array(list(d.keys())),np.array(list(d.values()))],index=['index','distance'])\n",
    "dist = dist.T"
   ]
  },
  {
   "cell_type": "code",
   "execution_count": 206,
   "metadata": {},
   "outputs": [
    {
     "data": {
      "text/html": [
       "<div>\n",
       "<style scoped>\n",
       "    .dataframe tbody tr th:only-of-type {\n",
       "        vertical-align: middle;\n",
       "    }\n",
       "\n",
       "    .dataframe tbody tr th {\n",
       "        vertical-align: top;\n",
       "    }\n",
       "\n",
       "    .dataframe thead th {\n",
       "        text-align: right;\n",
       "    }\n",
       "</style>\n",
       "<table border=\"1\" class=\"dataframe\">\n",
       "  <thead>\n",
       "    <tr style=\"text-align: right;\">\n",
       "      <th></th>\n",
       "      <th>index</th>\n",
       "      <th>distance</th>\n",
       "    </tr>\n",
       "  </thead>\n",
       "  <tbody>\n",
       "    <tr>\n",
       "      <th>0</th>\n",
       "      <td>E8AC41D107EA5DBB5DF561A684899B38</td>\n",
       "      <td>0</td>\n",
       "    </tr>\n",
       "    <tr>\n",
       "      <th>2</th>\n",
       "      <td>21B0CF144B3CFFDDCCE4937C7731A7CE</td>\n",
       "      <td>0</td>\n",
       "    </tr>\n",
       "    <tr>\n",
       "      <th>3</th>\n",
       "      <td>129CE0C7596D2D346E5CDC54E55A3A67</td>\n",
       "      <td>0</td>\n",
       "    </tr>\n",
       "    <tr>\n",
       "      <th>86</th>\n",
       "      <td>4BECE00CF75D77C061BD06EF469B799F</td>\n",
       "      <td>8.25</td>\n",
       "    </tr>\n",
       "    <tr>\n",
       "      <th>37</th>\n",
       "      <td>B7F1B941435297C9097DD67247A4731A</td>\n",
       "      <td>8.25</td>\n",
       "    </tr>\n",
       "    <tr>\n",
       "      <th>6936</th>\n",
       "      <td>6C44B35677DA4F58F1CA6A0FDD755AAA</td>\n",
       "      <td>15.13</td>\n",
       "    </tr>\n",
       "    <tr>\n",
       "      <th>52</th>\n",
       "      <td>C0DCC879E06A224650B1C4176A3F9F80</td>\n",
       "      <td>15.81</td>\n",
       "    </tr>\n",
       "    <tr>\n",
       "      <th>2400</th>\n",
       "      <td>0C671A66F2236BA11BD96F2B5F9C9AB5</td>\n",
       "      <td>15.84</td>\n",
       "    </tr>\n",
       "    <tr>\n",
       "      <th>5442</th>\n",
       "      <td>76AB36DB96146022986774BA94207E7F</td>\n",
       "      <td>16.58</td>\n",
       "    </tr>\n",
       "    <tr>\n",
       "      <th>976</th>\n",
       "      <td>4BA425C158226962FF4495BD4C230FC8</td>\n",
       "      <td>17.38</td>\n",
       "    </tr>\n",
       "  </tbody>\n",
       "</table>\n",
       "</div>"
      ],
      "text/plain": [
       "                                 index distance\n",
       "0     E8AC41D107EA5DBB5DF561A684899B38        0\n",
       "2     21B0CF144B3CFFDDCCE4937C7731A7CE        0\n",
       "3     129CE0C7596D2D346E5CDC54E55A3A67        0\n",
       "86    4BECE00CF75D77C061BD06EF469B799F     8.25\n",
       "37    B7F1B941435297C9097DD67247A4731A     8.25\n",
       "6936  6C44B35677DA4F58F1CA6A0FDD755AAA    15.13\n",
       "52    C0DCC879E06A224650B1C4176A3F9F80    15.81\n",
       "2400  0C671A66F2236BA11BD96F2B5F9C9AB5    15.84\n",
       "5442  76AB36DB96146022986774BA94207E7F    16.58\n",
       "976   4BA425C158226962FF4495BD4C230FC8    17.38"
      ]
     },
     "execution_count": 206,
     "metadata": {},
     "output_type": "execute_result"
    }
   ],
   "source": [
    "##  5 NEAREST PRODUCTS \n",
    "dist.sort_values('distance').head(10)"
   ]
  },
  {
   "cell_type": "code",
   "execution_count": 207,
   "metadata": {},
   "outputs": [
    {
     "data": {
      "text/plain": [
       "0       E8AC41D107EA5DBB5DF561A684899B38\n",
       "2       21B0CF144B3CFFDDCCE4937C7731A7CE\n",
       "3       129CE0C7596D2D346E5CDC54E55A3A67\n",
       "86      4BECE00CF75D77C061BD06EF469B799F\n",
       "37      B7F1B941435297C9097DD67247A4731A\n",
       "6936    6C44B35677DA4F58F1CA6A0FDD755AAA\n",
       "52      C0DCC879E06A224650B1C4176A3F9F80\n",
       "2400    0C671A66F2236BA11BD96F2B5F9C9AB5\n",
       "5442    76AB36DB96146022986774BA94207E7F\n",
       "976     4BA425C158226962FF4495BD4C230FC8\n",
       "Name: index, dtype: object"
      ]
     },
     "execution_count": 207,
     "metadata": {},
     "output_type": "execute_result"
    }
   ],
   "source": [
    "nearest_products = dist.sort_values('distance')['index'].head(10)\n",
    "nearest_products"
   ]
  },
  {
   "cell_type": "markdown",
   "metadata": {},
   "source": [
    "# 10 NEAREST PRODUCTS TO \n",
    "PRODUCT_ID :'E8AC41D107EA5DBB5DF561A684899B38' and Product: 'Color Dose Pearls Bronze 59 Nail Polish' are :"
   ]
  },
  {
   "cell_type": "code",
   "execution_count": 208,
   "metadata": {},
   "outputs": [
    {
     "name": "stdout",
     "output_type": "stream",
     "text": [
      "0    Color Dose Pearls Bronze 59 Nail Polish\n",
      "Name: Title, dtype: object\n",
      "2    Color Dose Pearls Copper Rust 58 Nail Polish\n",
      "Name: Title, dtype: object\n",
      "3    Color Dose Matt Nude 25 Nail Polish\n",
      "Name: Title, dtype: object\n",
      "86    Stay Quirky Nail Polish, It'S Pinke 466 (6 ml)\n",
      "Name: Title, dtype: object\n",
      "37    Stay Quirky Nail Polish, Pink-Iness 403 (6 ml)\n",
      "Name: Title, dtype: object\n",
      "6936    Kaiv Safety Pin Color SFP3303\n",
      "Name: Title, dtype: object\n",
      "52    Stay Quirky Nail Polish, Fresh Water Lake 518 ...\n",
      "Name: Title, dtype: object\n",
      "2400    Divo Set of 2 Foundation Round Sponges\n",
      "Name: Title, dtype: object\n",
      "5442    GUBB USA Cotton Balls 50S\n",
      "Name: Title, dtype: object\n",
      "976    Dove Cream Beauty Bathing Bar (75 g)\n",
      "Name: Title, dtype: object\n"
     ]
    }
   ],
   "source": [
    "for pid in nearest_products:\n",
    "    print(s_check[s_check['ProductId'] == pid]['Title'])"
   ]
  }
 ],
 "metadata": {
  "kernelspec": {
   "display_name": "Python 3",
   "language": "python",
   "name": "python3"
  },
  "language_info": {
   "codemirror_mode": {
    "name": "ipython",
    "version": 3
   },
   "file_extension": ".py",
   "mimetype": "text/x-python",
   "name": "python",
   "nbconvert_exporter": "python",
   "pygments_lexer": "ipython3",
   "version": "3.6.4"
  }
 },
 "nbformat": 4,
 "nbformat_minor": 2
}
